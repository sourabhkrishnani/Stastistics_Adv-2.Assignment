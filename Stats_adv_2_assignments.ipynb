{
  "nbformat": 4,
  "nbformat_minor": 0,
  "metadata": {
    "colab": {
      "provenance": []
    },
    "kernelspec": {
      "name": "python3",
      "display_name": "Python 3"
    },
    "language_info": {
      "name": "python"
    }
  },
  "cells": [
    {
      "cell_type": "markdown",
      "source": [
        "### Q1"
      ],
      "metadata": {
        "id": "C4E7sudXk02F"
      }
    },
    {
      "cell_type": "markdown",
      "source": [
        "Probability Mass Function (PMF)\n",
        "\n",
        "The Probability Mass Function (PMF) is a function that gives the probability that a discrete random variable takes on a particular value. In other words, for a discrete random variable X, the PMF, denoted as\n",
        "\n",
        "P(X=x), gives the probability that the variable is exactly equal to some value x."
      ],
      "metadata": {
        "id": "ki-CmxWBlhs8"
      }
    },
    {
      "cell_type": "markdown",
      "source": [
        "The PMF satisfies two key properties:\n",
        "\n",
        "0≤P(X=x)≤1 for any value x in the sample space.\n",
        "\n",
        "The sum of the probabilities ofall possible values of X is 1: ∑ P(X=x)=1.\n",
        "\n",
        "Example of PMF\n",
        "\n",
        "Let\n",
        "X be the outcome of rolling a fair six-sided die. The possible values of\n",
        "X are1,2,3,4,5,6, and since the die is fair, the probability of each outcome is 1/6.\n"
      ],
      "metadata": {
        "id": "ygbWll4Xl0Gh"
      }
    },
    {
      "cell_type": "markdown",
      "source": [
        "Probability Density Function (PDF)\n",
        "\n",
        "The Probability Density Function (PDF) is used to describe the likelihood of a continuous random variable taking on a value within a certain range. The PDF does not give the probability of the random variable taking an exact value (since for continuous variables, the probability of any single value is 0), but it gives the relative likelihood of the variable falling within a small interval.\n",
        "\n",
        "For a continuous random variable X with PDF f(x), the probability that X falls between two values a and b is given by:\n",
        "\n",
        "The PDF must satisfy:\n",
        "\n",
        "f(x)≥0 for all x.\n",
        "The total area under the PDF curve must be 1:\n",
        "\n",
        "∫f(x)dx=1.\n",
        "\n",
        "Example of PDF\n",
        "Let X be a continuous random variable representing the height of people in a population, modeled by a normal (Gaussian) distribution with mean\n",
        "μ=170 cm and standard deviation σ=10 cm\n",
        "\n"
      ],
      "metadata": {
        "id": "SS3xyGGPm7Vh"
      }
    },
    {
      "cell_type": "markdown",
      "source": [
        "### Q2"
      ],
      "metadata": {
        "id": "AIzsV613k1F_"
      }
    },
    {
      "cell_type": "markdown",
      "source": [
        "Cumulative Distribution Function (CDF)\n",
        "The Cumulative Distribution Function (CDF) gives the probability that a random variable X (whether discrete or continuous) will take a value less than orequal to a certain value x. It essentially \"accumulates\" the probabilities from the leftmost value up to x.\n",
        "\n",
        "For a random variable X, the CDF, denoted as F(x), is defined as:\n",
        "\n",
        "F(x)=P(X≤x)\n",
        "This means that for a given value x, F(x) represents the probability that X will take a value less than or equal to x.\n",
        "\n",
        "Example of CDF\n",
        "Discrete Case:\n",
        "Let X be the outcome of rolling a fair six-sided die. The possible values of X are 1,2,3,4,5,6, and the PMF for each value is 1/6.\n",
        "\n",
        "Continuous Case:Let\n",
        "X be a continuous random variable representing the height of people, where X follows a normal distribution with mean μ=170 cm and standard deviation σ=10 cm"
      ],
      "metadata": {
        "id": "nzmeP4dbqDwh"
      }
    },
    {
      "cell_type": "markdown",
      "source": [
        "### Q3"
      ],
      "metadata": {
        "id": "TyKL0Jy3k1Om"
      }
    },
    {
      "cell_type": "markdown",
      "source": [
        "Situations Where the Normal Distribution Might Be Used\n",
        "\n",
        "The normal distribution, also known as the Gaussian distribution, is widely used to model a variety of real-world phenomena, particularly when data tends to cluster around a central value. Here are some examples of situations where the normal distribution is a suitable model:\n",
        "\n",
        "Human Heights and Weights: The distribution of human heights and weights often approximates a normal distribution, where most people are clustered around the average, with fewer people at the extremes (very tall/short or very heavy/light).\n",
        "\n",
        "IQ Scores: Intelligence quotient (IQ) scores are often modeled using a normal distribution with a mean of 100 and a standard deviation of 15. Most people have IQs near the average, with fewer people at very high or very low scores.\n",
        "\n",
        "Measurement Errors: In many scientific experiments, random errors in measurement (such as small fluctuations in temperature or voltage) are often normally distributed around the true value.\n",
        "\n",
        "Blood Pressure: Systolic and diastolic blood pressure readings in a healthy population often follow a normal distribution, with most readings near a typical value and fewer readings at the extremes.\n",
        "\n",
        "Stock Market Returns: While stock returns may not perfectly follow a normal distribution due to extreme events (e.g., market crashes), over short periods and for smaller movements, daily or monthly returns of many assets can be approximately normal.\n",
        "\n",
        "Exam Scores: In large classes or standardized testing situations, student test scores often follow a normal distribution, where most students score around the average, and there are fewer high and low scores."
      ],
      "metadata": {
        "id": "5FVENZ79qDzw"
      }
    },
    {
      "cell_type": "markdown",
      "source": [
        "Parameters of the Normal Distribution and Their Relationship to Shape\n",
        "\n",
        "The normal distribution is characterized by two key parameters:\n",
        "\n",
        "Mean (μ): This represents the \"center\" of the distribution, also referred to as the expected value. The mean is the point around which the data tends to cluster. It defines the location of the peak of the bell curve.\n",
        "When the mean changes, the entire distribution shifts left or right along the x-axis without altering the shape.\n",
        "\n",
        "Standard Deviation (σ): This represents the spread or dispersion of the distribution. It determines how \"wide\" or \"narrow\" the bell curve is.\n",
        "\n",
        "A small standard deviation (e.g., σ=5) means that the data points are closely packed around the mean, resulting in a tall, narrow bell curve.\n",
        "A large standard deviation (e.g., σ=20) means that the data points are more spread out from the mean, producing a wider, flatter bell curve.\n",
        "The standard deviation also dictates how much of the data falls within specific intervals. For example:\n",
        "\n",
        "Approximately 68% of the data lies within μ±1σ (one standard deviation of the mean).\n",
        "Approximately 95% lies within μ±2σ.\n",
        "Approximately 99.7% lies within μ±3σ."
      ],
      "metadata": {
        "id": "9IXIitdCsQWD"
      }
    },
    {
      "cell_type": "markdown",
      "source": [
        "Shape of the Normal Distribution\n",
        "The shape of the normal distribution, also known as a bell curve, is determined entirely by the mean and standard deviation:\n",
        "\n",
        "Symmetry: The normal distribution is symmetric around the mean. The left and right sides of the distribution are mirror images.\n",
        "Single Peak: The distribution has a single peak at the mean, and the height of the curve decreases as you move away from the mean in either direction.\n",
        "Tails: The tails of the normal distribution extend infinitely in both directions, but the probability of values far from the mean becomes very small."
      ],
      "metadata": {
        "id": "lPfs1tVvsZRw"
      }
    },
    {
      "cell_type": "code",
      "execution_count": 2,
      "metadata": {
        "id": "bLw87Jd0s4Vg",
        "colab": {
          "base_uri": "https://localhost:8080/",
          "height": 564
        },
        "outputId": "ef2d468c-1835-42ca-c710-e543afe70742"
      },
      "outputs": [
        {
          "output_type": "display_data",
          "data": {
            "text/plain": [
              "<Figure size 1000x600 with 1 Axes>"
            ],
            "image/png": "[encoded data removed]"
          },
          "metadata": {}
        }
      ],
      "source": [
        "import numpy as np\n",
        "import matplotlib.pyplot as plt\n",
        "from scipy.stats import norm\n",
        "\n",
        "# Create an array of x values\n",
        "x = np.linspace(-50, 150, 1000)\n",
        "\n",
        "# Define mean (mu) and standard deviation (sigma) for two distributions\n",
        "mu1, sigma1 = 100, 10\n",
        "mu2, sigma2 = 100, 20\n",
        "\n",
        "# Compute the PDF (Probability Density Function) for each distribution\n",
        "y1 = norm.pdf(x, mu1, sigma1)\n",
        "y2 = norm.pdf(x, mu2, sigma2)\n",
        "\n",
        "# Create the plot\n",
        "plt.figure(figsize=(10, 6))\n",
        "\n",
        "# Plot the first normal distribution\n",
        "plt.plot(x, y1, label=f'Normal Distribution (mu={mu1}, sigma={sigma1})', color='blue')\n",
        "\n",
        "# Plot the second normal distribution\n",
        "plt.plot(x, y2, label=f'Normal Distribution (mu={mu2}, sigma={sigma2})', color='red')\n",
        "\n",
        "# Add title and labels\n",
        "plt.title('Normal Distribution with Different Standard Deviations')\n",
        "plt.xlabel('x')\n",
        "plt.ylabel('Density')\n",
        "\n",
        "# Show a legend\n",
        "plt.legend()\n",
        "\n",
        "# Show the plot\n",
        "plt.grid(True)\n",
        "plt.show()\n"
      ]
    },
    {
      "cell_type": "markdown",
      "source": [
        "### Q4"
      ],
      "metadata": {
        "id": "qMBuY0Nyk1SW"
      }
    },
    {
      "cell_type": "markdown",
      "source": [
        "Importance of the Normal Distribution\n",
        "The normal distribution is one of the most important probability distributions in statistics, and it is widely used in various fields due to several reasons:\n",
        "\n",
        "Common in Nature: Many real-life phenomena naturally follow the normal distribution. This includes human characteristics (e.g., height, weight), measurement errors, and test scores. The central limit theorem helps explain this, showing that when you sum up many independent random variables, their sum tends to follow a normal distribution, regardless of the original distributions.\n",
        "\n",
        "Simplicity and Symmetry: The normal distribution is symmetric and mathematically simple to work with. It has well-defined properties (e.g., mean = median = mode, symmetry about the mean), which makes it easier to analyze and interpret.\n",
        "\n",
        "Foundation for Statistical Inference: Many statistical methods and hypothesis tests are built assuming the data follows a normal distribution. For example, confidence intervals, z-tests, and t-tests often assume normality when making inferences about population parameters.\n",
        "\n",
        "Predictive Modeling: The normal distribution is often used in predictive modeling to estimate probabilities and outcomes. Many machine learning algorithms (like linear regression, logistic regression) assume normally distributed errors.\n",
        "\n",
        "Central Limit Theorem (CLT): According to the central limit theorem, even if the population distribution is not normal, the distribution of sample means will tend to follow a normal distribution as the sample size increases. This is why normal distribution is a critical concept in inferential statistics.\n",
        "\n",
        "Key Properties of Normal Distribution:\n",
        "Symmetric around the mean.\n",
        "The mean, median, and mode are all equal.\n",
        "68-95-99.7 Rule: About 68% of data falls within one standard deviation of the mean, 95% within two, and 99.7% within three standard deviations.\n",
        "Real-Life Examples of Normal Distribution\n",
        "Human Height: Heights of adult humans within a population tend to follow a normal distribution. Most people are close to the average height, with fewer people being extremely tall or short. For example, in a population, you might have an average height of 170 cm, with most people within a range of 10-20 cm around this average.\n",
        "\n",
        "IQ Scores: IQ scores are modeled by a normal distribution with a mean of 100 and a standard deviation of 15. The distribution shows that most people have IQs around 100, and the probability of someone having a very high or very low IQ decreases the further you move away from the mean."
      ],
      "metadata": {
        "id": "ylnpRkXQs7Wf"
      }
    },
    {
      "cell_type": "markdown",
      "source": [
        "### Q5"
      ],
      "metadata": {
        "id": "b_0UGjcek1V6"
      }
    },
    {
      "cell_type": "markdown",
      "source": [
        "Bernoulli Distribution\n",
        "The Bernoulli distribution is a discrete probability distribution for a random variable that can take on only two possible outcomes: success (typically represented by 1) and failure (represented by 0). The Bernoulli distribution is characterized by a single parameter,\n",
        "𝑝\n",
        "p, which is the probability of success (i.e., the outcome 1)."
      ],
      "metadata": {
        "id": "C5Y-Ltwus6BF"
      }
    },
    {
      "cell_type": "markdown",
      "source": [
        "Example of Bernoulli Distribution\n",
        "An example of a Bernoulli distribution is flipping a coin, where:\n",
        "\n",
        "Success (\n",
        "𝑋\n",
        "=\n",
        "1\n",
        "X=1) represents landing heads.\n",
        "Failure (\n",
        "𝑋\n",
        "=\n",
        "0\n",
        "X=0) represents landing tails. If the coin is fair, the probability of success (landing heads) is\n",
        "𝑝\n",
        "=\n",
        "0.5\n",
        "p=0.5, and the probability of failure (landing tails) is\n",
        "1\n",
        "−\n",
        "𝑝\n",
        "=\n",
        "0.5\n",
        "1−p=0.5.\n",
        "Difference Between Bernoulli Distribution and Binomial Distribution\n",
        "While the Bernoulli distribution describes the outcome of a single trial, the binomial distribution describes the outcome of multiple independent Bernoulli trials. Here’s a breakdown of the key differences:"
      ],
      "metadata": {
        "id": "Ip87AnIEtOVC"
      }
    },
    {
      "cell_type": "markdown",
      "source": [
        "### Q6"
      ],
      "metadata": {
        "id": "xcmK3alCtVuN"
      }
    },
    {
      "cell_type": "code",
      "source": [
        "import scipy.stats as stats\n",
        "\n",
        "# Given values\n",
        "mean = 50\n",
        "std_dev = 10\n",
        "x = 60\n",
        "\n",
        "# Calculate the Z-score\n",
        "z_score = (x - mean) / std_dev\n",
        "\n",
        "# Find the probability to the left of X = 60 (P(X < 60))\n",
        "p_less_than_60 = stats.norm.cdf(z_score)\n",
        "\n",
        "# Probability that X > 60\n",
        "p_greater_than_60 = 1 - p_less_than_60\n",
        "\n",
        "# Output the result\n",
        "print(f\"Probability that a randomly selected observation is greater than 60: {p_greater_than_60:.4f}\")\n"
      ],
      "metadata": {
        "colab": {
          "base_uri": "https://localhost:8080/"
        },
        "id": "NSAo55Ggt47K",
        "outputId": "c9cb50dc-856f-4427-c84d-ddf771b0d7c1"
      },
      "execution_count": 3,
      "outputs": [
        {
          "output_type": "stream",
          "name": "stdout",
          "text": [
            "Probability that a randomly selected observation is greater than 60: 0.1587\n"
          ]
        }
      ]
    },
    {
      "cell_type": "markdown",
      "source": [
        "### Q7"
      ],
      "metadata": {
        "id": "xQYvAGBWtV2a"
      }
    },
    {
      "cell_type": "markdown",
      "source": [
        "Uniform Distribution\n",
        "The uniform distribution is a type of probability distribution where all outcomes are equally likely within a certain range. There are two types of uniform distributions:\n",
        "\n",
        "Discrete Uniform Distribution: The outcomes are a finite set of equally probable values (e.g., rolling a fair die).\n",
        "Continuous Uniform Distribution: The outcomes are any value within a continuous range, and all intervals of the same length within the range are equally likely (e.g., picking a random point between 0 and 1).\n",
        "Characteristics of Uniform Distribution:\n",
        "Equally Likely Outcomes: Each outcome within the specified range has the same probability.\n",
        "Range: Defined by a lower bound\n",
        "𝑎\n",
        "a and an upper bound\n",
        "𝑏\n",
        "b.\n",
        "Probability Density Function (PDF) for continuous uniform distribution:\n",
        "𝑓\n",
        "(\n",
        "𝑥\n",
        ")\n",
        "=\n",
        "{\n",
        "1\n",
        "𝑏\n",
        "−\n",
        "𝑎\n",
        ",\n",
        "for\n",
        "𝑎\n",
        "≤\n",
        "𝑥\n",
        "≤\n",
        "𝑏\n",
        "0\n",
        ",\n",
        "otherwise\n",
        "f(x)={\n",
        "b−a\n",
        "1\n",
        "​\n",
        " ,\n",
        "0,\n",
        "​\n",
        "  \n",
        "for a≤x≤b\n",
        "otherwise\n",
        "​\n",
        "\n",
        "This implies that the probability is uniformly spread across the interval from\n",
        "𝑎\n",
        "a to\n",
        "𝑏\n",
        "b.\n",
        "Example of a Continuous Uniform Distribution"
      ],
      "metadata": {
        "id": "vihJsewntV5d"
      }
    },
    {
      "cell_type": "code",
      "source": [
        "import numpy as np\n",
        "import matplotlib.pyplot as plt\n",
        "\n",
        "# Parameters for the uniform distribution\n",
        "a = 0  # Lower bound\n",
        "b = 10  # Upper bound\n",
        "\n",
        "# Generate points for the x-axis\n",
        "x = np.linspace(a, b, 1000)\n",
        "# Create the PDF of the uniform distribution\n",
        "y = np.ones_like(x) * (1 / (b - a))\n",
        "\n",
        "# Plot the PDF\n",
        "plt.plot(x, y, label=\"Uniform Distribution PDF (0, 10)\")\n",
        "plt.fill_between(x, y, color='lightblue', alpha=0.6)\n",
        "plt.title('Uniform Distribution (0, 10)')\n",
        "plt.xlabel('x')\n",
        "plt.ylabel('Probability Density')\n",
        "plt.ylim(0, 0.15)\n",
        "plt.legend()\n",
        "plt.show()\n"
      ],
      "metadata": {
        "colab": {
          "base_uri": "https://localhost:8080/",
          "height": 472
        },
        "id": "INGPUq_puOVK",
        "outputId": "cb35b20c-0157-4c2a-b09f-dcf74a01b656"
      },
      "execution_count": 4,
      "outputs": [
        {
          "output_type": "display_data",
          "data": {
            "text/plain": [
              "<Figure size 640x480 with 1 Axes>"
            ],
            "image/png": "[encoded data removed]"
          },
          "metadata": {}
        }
      ]
    },
    {
      "cell_type": "markdown",
      "source": [
        "### Q8"
      ],
      "metadata": {
        "id": "_utNAMzVtVzi"
      }
    },
    {
      "cell_type": "markdown",
      "source": [
        "The Z-score (also known as the standard score) measures how many standard deviations a data point is from the mean of the distribution. It helps standardize different data points and allows for easy comparison across different normal distributions.\n",
        "\n",
        "The Z-score is calculated using the formula:\n",
        "\n",
        "𝑍\n",
        "=\n",
        "𝑋\n",
        "−\n",
        "𝜇\n",
        "𝜎\n",
        "Z=\n",
        "σ\n",
        "X−μ\n",
        "​\n",
        "\n",
        "Where:\n",
        "\n",
        "𝑋\n",
        "X is the value of the data point,\n",
        "𝜇\n",
        "μ is the mean of the dataset,\n",
        "𝜎\n",
        "σ is the standard deviation of the dataset.\n",
        "\n",
        "Interpretation of the Z-score:\n",
        "\n",
        "A Z-score of 0 indicates that the data point is exactly at the mean.\n",
        "A positive Z-score indicates that the data point is above the mean.\n",
        "Example:\n",
        "𝑍\n",
        "=\n",
        "1\n",
        "Z=1 means the data point is 1 standard deviation above the mean.\n",
        "A negative Z-score indicates that the data point is below the mean.\n",
        "Example:\n",
        "𝑍\n",
        "=\n",
        "−\n",
        "2\n",
        "Z=−2 means the data point is 2 standard deviations below the mean.\n",
        "\n",
        "Importance of Z-score\n",
        "\n",
        "Standardization of Data: Z-scores standardize data by converting different scales into a common metric. This allows us to compare data points from different distributions, even if they have different means and standard deviations. This is especially useful when dealing with datasets that have different units of measurement.\n",
        "\n",
        "Example: Comparing the height of a person (measured in centimeters) and their weight (measured in kilograms) using Z-scores makes it possible to determine how each value compares to its respective mean.\n",
        "\n",
        "Probability Calculation in Normal Distribution: Z-scores are used to calculate the probability of a data point occurring within a normal distribution. This helps determine how likely or unlikely a value is in a dataset. Z-tables (or standard normal distribution tables) provide the probability that a value is less than or greater than a given Z-score.\n",
        "\n",
        "Outlier Detection: A Z-score helps identify outliers in a dataset. Typically, if a Z-score is greater than +3 or less than -3, the data point is considered an outlier. This is because, in a normal distribution, about 99.7% of the data falls within 3 standard deviations from the mean.\n",
        "\n",
        "Hypothesis Testing: Z-scores are widely used in statistical hypothesis testing, particularly in Z-tests. Z-scores help determine how far a sample mean is from the population mean, aiding in decision-making about whether to reject a null hypothesis.\n",
        "\n",
        "Standardized Test Scores: In standardized tests (such as the SAT or GRE), Z-scores can be used to determine how a test score compares to the overall distribution of scores. This helps in assigning percentiles or performance ranks based on the Z-score."
      ],
      "metadata": {
        "id": "FlRV-t4HuiRP"
      }
    },
    {
      "cell_type": "markdown",
      "source": [
        "### Q9"
      ],
      "metadata": {
        "id": "AAaH46lVvCnL"
      }
    },
    {
      "cell_type": "markdown",
      "source": [
        "The Central Limit Theorem (CLT) is a fundamental concept in statistics that states that the sampling distribution of the sample mean (or sum) of a large enough sample from any population (with any distribution) will approximate a normal distribution. This holds true regardless of the original distribution of the population, provided the sample size is sufficiently large and random.\n",
        "\n",
        "Formally, if you have a population with mean\n",
        "𝜇\n",
        "μ and standard deviation\n",
        "𝜎\n",
        "σ, and you take sufficiently large random samples (size\n",
        "𝑛\n",
        "n) from this population, the distribution of the sample means will:\n",
        "\n",
        "Be approximately normal (bell-shaped) even if the population distribution is not normal.\n",
        "Have a mean equal to the population mean (\n",
        "𝜇\n",
        "μ).\n",
        "Have a standard deviation (standard error) equal to\n",
        "𝜎\n",
        "𝑛\n",
        "n\n",
        "​\n",
        "\n",
        "σ\n",
        "​\n",
        " .\n",
        "This convergence to normality becomes more accurate as the sample size increases, typically when\n",
        "𝑛\n",
        "≥\n",
        "30\n",
        "n≥30, but it can be smaller depending on the shape of the original distribution."
      ],
      "metadata": {
        "id": "VXTndno2vCp_"
      }
    },
    {
      "cell_type": "markdown",
      "source": [
        "Significance of the Central Limit Theorem\n",
        "The CLT is extremely important in statistics because of the following reasons:\n",
        "\n",
        "Allows Normal Approximation: Even if the underlying population distribution is not normal (e.g., skewed, bimodal, etc.), the sample means will form a normal distribution when the sample size is large. This enables the use of powerful statistical tools based on normal distribution, such as confidence intervals and hypothesis testing.\n",
        "\n",
        "Foundation for Inference: The CLT is the foundation for many statistical methods used to make inferences about a population from a sample. With the CLT, we can estimate population parameters (mean, standard deviation) and compute probabilities even when the population distribution is unknown.\n",
        "\n",
        "Simplifies Analysis: Many statistical techniques require assumptions of normality. The CLT allows us to relax these assumptions when dealing with sample means, making it easier to work with a wide variety of data types and distributions.\n",
        "\n",
        "Basis for Hypothesis Testing: Since the sample means follow a normal distribution, the CLT enables hypothesis testing (e.g., Z-tests, t-tests) to determine the likelihood of observing a sample statistic given a known or hypothesized population mean."
      ],
      "metadata": {
        "id": "np7jLtRRvbAk"
      }
    },
    {
      "cell_type": "markdown",
      "source": [
        "### Q10"
      ],
      "metadata": {
        "id": "X1fe3P4uvc6k"
      }
    },
    {
      "cell_type": "markdown",
      "source": [
        "The Central Limit Theorem (CLT) relies on certain assumptions to hold true. These assumptions ensure that the sampling distribution of the sample mean approaches a normal distribution. Here are the key assumptions of the CLT:\n",
        "\n",
        "Random Sampling:\n",
        "\n",
        "The samples must be drawn randomly from the population. This ensures that every member of the population has an equal chance of being included in the sample, minimizing bias in the sample selection.\n",
        "\n",
        "Independence:\n",
        "The observations in the sample must be independent of each other. This means that the selection of one observation does not influence the selection of another. For example, if you are sampling people, knowing the height of one person should not affect your knowledge about the height of another.\n",
        "\n",
        "Sample Size:\n",
        "The sample size must be sufficiently large. While there is no strict rule, a common guideline is that\n",
        "𝑛\n",
        "≥\n",
        "30\n",
        "n≥30 is often sufficient for the CLT to apply. However, if the underlying population distribution is normal, smaller sample sizes can also be sufficient.\n",
        "\n",
        "Finite Mean and Variance:\n",
        "The population from which the samples are drawn must have a finite mean (\n",
        "𝜇\n",
        "μ) and a finite variance (\n",
        "𝜎\n",
        "2\n",
        "σ\n",
        "2\n",
        " ). If the population has infinite variance, the CLT may not apply.\n",
        "\n",
        "Distribution Shape:\n",
        "While the CLT states that the distribution of sample means will approach normality regardless of the shape of the population distribution, if the population distribution is extremely skewed or has heavy tails, a larger sample size may be necessary for the sampling distribution of the mean to be approximately normal."
      ],
      "metadata": {
        "id": "_Be8yw26vc91"
      }
    },
    {
      "cell_type": "code",
      "source": [],
      "metadata": {
        "id": "foo4Ix9xv1Pc"
      },
      "execution_count": null,
      "outputs": []
    }
  ]
}